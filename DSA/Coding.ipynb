{
 "cells": [
  {
   "cell_type": "markdown",
   "metadata": {},
   "source": [
    "# Coding\n"
   ]
  },
  {
   "cell_type": "markdown",
   "metadata": {},
   "source": [
    "9.1 Given two arrays, write a function to get the intersection of the two. \n",
    "\n",
    "For example, if A = [1,2,3,4,5] and B = [0,1,3,7], then you should return [1,3].\n"
   ]
  },
  {
   "cell_type": "code",
   "execution_count": 17,
   "metadata": {},
   "outputs": [
    {
     "data": {
      "text/plain": [
       "[1, 3]"
      ]
     },
     "execution_count": 17,
     "metadata": {},
     "output_type": "execute_result"
    }
   ],
   "source": [
    "def intersection(a,b):\n",
    "    set_a = set(a)\n",
    "    set_b = set(b)\n",
    "    if len(set_a) < len(set_b):\n",
    "        return [x for x in set_a if x in set_b]\n",
    "    else:\n",
    "        return [x for x in set_b if x in set_a]\n",
    "# Time complexity here is O(N+M) where N and M are the lengths of the two lists\n",
    "# Space complexity is O(N+M) since we are creating two sets of size N and M\n",
    "\n",
    "intersection([1,2,3,4,5], [0,1,3,7]) # Example\n",
    "\n",
    "# A double for loop will cause lead to time complexity of O(N*M)\n",
    "# Better way: use sets since they are hashable and have O(1) lookup time\n"
   ]
  },
  {
   "cell_type": "markdown",
   "metadata": {},
   "source": [
    "9.2 Given an integer array, return the maximum product of any three numbers in the array. \n",
    "\n",
    "For example, for A = [1,3,4,5], you should return 60, while for B=[-2,-4,5,3] you should return 40."
   ]
  },
  {
   "cell_type": "code",
   "execution_count": 51,
   "metadata": {},
   "outputs": [
    {
     "data": {
      "text/plain": [
       "40"
      ]
     },
     "execution_count": 51,
     "metadata": {},
     "output_type": "execute_result"
    }
   ],
   "source": [
    "import heapq\n",
    "\n",
    "def max_three(arr):\n",
    "    a = heapq.nlargest(3, arr) # Largest 3 elements \n",
    "    b = heapq.nsmallest(2,arr) # Smallest 2 elements \n",
    "    return max(a[2]*a[1]*a[0], a[0]*b[0]*b[1]) # O(1)    \n",
    "\n",
    "max_three([-2,-4,5,3])\n",
    "\n",
    "\"\"\"The code considers two cases for the maximum product of three numbers: \n",
    "1. The three largest positive numbers\n",
    "2. The two smallest negative numbers and the largest positive number\n",
    "\"\"\"\n",
    "# Time complexity is O(N)\n",
    "# Space complexity is O(1)"
   ]
  },
  {
   "cell_type": "markdown",
   "metadata": {},
   "source": [
    "9.3 Given a list of coordinates, write a function to find the k closest points (measured by Euclidean distance) to the origin. \n",
    "For example, if k = 3, and the points are: [[2,-1],[3,2],[4,1],[-1,-1],[-2,2]], then return [[-1,-1],[2,1],[-2,2]]"
   ]
  },
  {
   "cell_type": "code",
   "execution_count": 34,
   "metadata": {},
   "outputs": [
    {
     "name": "stdout",
     "output_type": "stream",
     "text": [
      "[[-1, -1], [2, -1], [-2, 2]]\n"
     ]
    }
   ],
   "source": [
    "from heapq import heappush, heappop\n",
    "# Heappush pushes an element into the heap\n",
    "# Heappop popst he smallest element from the heap \n",
    "def k_closest_points(k, points):\n",
    "    def get_dist(x,y):\n",
    "        return x**2 + y**2\n",
    "    min_heap = []\n",
    "    n = len(points)\n",
    "    for i in range(n):\n",
    "        x = points[i][0]\n",
    "        y = points[i][1]\n",
    "        heappush(min_heap, (get_dist(x,y), points[i]))\n",
    "    res = []\n",
    "    for i in range(k):\n",
    "        res.append(heappop(min_heap)[1])\n",
    "    return res\n",
    "    \n",
    "points = [[2,-1],[3,2],[4,1],[-1,-1],[-2,2]]\n",
    "k = 3\n",
    "result = k_closest_points(k, points)\n",
    "print(result)\n"
   ]
  },
  {
   "cell_type": "markdown",
   "metadata": {},
   "source": [
    "9.4 Say you have an n-by-m matrix of elements that are sorted in ascending order both in the columns and rows of the matrix. Return the kth smallest element of the matrix. \n",
    "For example, consider the matrix \n",
    "\n",
    "[[1,4,7];\n",
    "\n",
    "[3,5,9];\n",
    "\n",
    "[6,8,11]]\n",
    "\n",
    "If k = 4, the return 5"
   ]
  },
  {
   "cell_type": "code",
   "execution_count": 52,
   "metadata": {},
   "outputs": [
    {
     "data": {
      "text/plain": [
       "5"
      ]
     },
     "execution_count": 52,
     "metadata": {},
     "output_type": "execute_result"
    }
   ],
   "source": [
    "from heapq import heappush, heappop\n",
    "\n",
    "def k_smallest_in_matrix(k, m):\n",
    "    n = len(m)\n",
    "    heap = []\n",
    "    res = -1\n",
    "    for i in range(min(k,n)): \n",
    "        for j in range(min(k,n)):\n",
    "            heappush(heap,m[i][j])\n",
    "    for _ in range(k): \n",
    "        res = heappop(heap) # pop k times\n",
    "    return res \n",
    " \n",
    "mat = [[1,4,7],[3,5,9],[6,8,11]]\n",
    "k_smallest_in_matrix(4,mat)\n"
   ]
  },
  {
   "cell_type": "code",
   "execution_count": 53,
   "metadata": {},
   "outputs": [
    {
     "data": {
      "text/plain": [
       "5"
      ]
     },
     "execution_count": 53,
     "metadata": {},
     "output_type": "execute_result"
    }
   ],
   "source": [
    "def k_smallest_in_matrix(k, m):\n",
    "    # Flatten the matrix into a list\n",
    "    flat_list = [item for sublist in m for item in sublist]\n",
    "    \n",
    "    # Sort the list\n",
    "    flat_list.sort()\n",
    "    \n",
    "    # Return the k-th smallest element\n",
    "    return flat_list[k-1]\n",
    "\n",
    "mat = [[1,4,7],[3,5,9],[6,8,11]]\n",
    "k_smallest_in_matrix(4, mat)"
   ]
  }
 ],
 "metadata": {
  "kernelspec": {
   "display_name": "Python 3",
   "language": "python",
   "name": "python3"
  },
  "language_info": {
   "codemirror_mode": {
    "name": "ipython",
    "version": 3
   },
   "file_extension": ".py",
   "mimetype": "text/x-python",
   "name": "python",
   "nbconvert_exporter": "python",
   "pygments_lexer": "ipython3",
   "version": "3.10.7"
  }
 },
 "nbformat": 4,
 "nbformat_minor": 2
}
