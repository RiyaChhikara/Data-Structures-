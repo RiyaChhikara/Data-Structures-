{
 "cells": [
  {
   "cell_type": "markdown",
   "metadata": {},
   "source": [
    "# Coding\n"
   ]
  },
  {
   "cell_type": "markdown",
   "metadata": {},
   "source": [
    "9.1 Given two arrays, write a function to get the intersection of the two. \n",
    "\n",
    "For example, if A = [1,2,3,4,5] and B = [0,1,3,7], then you should return [1,3].\n"
   ]
  },
  {
   "cell_type": "code",
   "execution_count": 17,
   "metadata": {},
   "outputs": [
    {
     "data": {
      "text/plain": [
       "[1, 3]"
      ]
     },
     "execution_count": 17,
     "metadata": {},
     "output_type": "execute_result"
    }
   ],
   "source": [
    "def intersection(a,b):\n",
    "    set_a = set(a)\n",
    "    set_b = set(b)\n",
    "    if len(set_a) < len(set_b):\n",
    "        return [x for x in set_a if x in set_b]\n",
    "    else:\n",
    "        return [x for x in set_b if x in set_a]\n",
    "# Time complexity here is O(N+M) where N and M are the lengths of the two lists\n",
    "# Space complexity is O(N+M) since we are creating two sets of size N and M\n",
    "\n",
    "intersection([1,2,3,4,5], [0,1,3,7]) # Example\n",
    "\n",
    "# A double for loop will cause lead to time complexity of O(N*M)\n",
    "# Better way: use sets since they are hashable and have O(1) lookup time\n"
   ]
  },
  {
   "cell_type": "markdown",
   "metadata": {},
   "source": [
    "9.2 Given an integer array, return the maximum product of any three numbers in the array. \n",
    "\n",
    "For example, for A = [1,3,4,5], you should return 60, while for B=[-2,-4,5,3] you should return 40."
   ]
  },
  {
   "cell_type": "code",
   "execution_count": 51,
   "metadata": {},
   "outputs": [
    {
     "data": {
      "text/plain": [
       "40"
      ]
     },
     "execution_count": 51,
     "metadata": {},
     "output_type": "execute_result"
    }
   ],
   "source": [
    "import heapq\n",
    "\n",
    "def max_three(arr):\n",
    "    a = heapq.nlargest(3, arr) # Largest 3 elements \n",
    "    b = heapq.nsmallest(2,arr) # Smallest 2 elements \n",
    "    return max(a[2]*a[1]*a[0], a[0]*b[0]*b[1]) # O(1)    \n",
    "\n",
    "max_three([-2,-4,5,3])\n",
    "\n",
    "\"\"\"The code considers two cases for the maximum product of three numbers: \n",
    "1. The three largest positive numbers\n",
    "2. The two smallest negative numbers and the largest positive number\n",
    "\"\"\"\n",
    "# Time complexity is O(N)\n",
    "# Space complexity is O(1)"
   ]
  }
 ],
 "metadata": {
  "kernelspec": {
   "display_name": "Python 3",
   "language": "python",
   "name": "python3"
  },
  "language_info": {
   "codemirror_mode": {
    "name": "ipython",
    "version": 3
   },
   "file_extension": ".py",
   "mimetype": "text/x-python",
   "name": "python",
   "nbconvert_exporter": "python",
   "pygments_lexer": "ipython3",
   "version": "3.10.7"
  }
 },
 "nbformat": 4,
 "nbformat_minor": 2
}
