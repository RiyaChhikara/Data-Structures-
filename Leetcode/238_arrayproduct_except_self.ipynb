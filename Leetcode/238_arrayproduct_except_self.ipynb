{
 "cells": [
  {
   "cell_type": "markdown",
   "metadata": {},
   "source": [
    "# Product of array except self \n",
    "\n",
    "Given an integer array nums, return an array answer such that answer[i] is equal to the product of all the elements of nums except nums[i].\n",
    "\n",
    "The product of any prefix or suffix of nums is guaranteed to fit in a 32-bit integer.\n",
    "\n",
    "You must write an algorithm that runs in O(n) time and without using the division operation.\n",
    "\n",
    " \n",
    "\n",
    "Example 1:\n",
    "\n",
    "Input: nums = [1,2,3,4]\n",
    "Output: [24,12,8,6]\n",
    "Example 2:\n",
    "\n",
    "Input: nums = [-1,1,0,-3,3]\n",
    "Output: [0,0,9,0,0]\n",
    " \n",
    "\n",
    "Constraints:\n",
    "\n",
    "2 <= nums.length <= 105\n",
    "-30 <= nums[i] <= 30\n",
    "The product of any prefix or suffix of nums is guaranteed to fit in a 32-bit integer.\n",
    " \n",
    "\n",
    "Follow up: Can you solve the problem in O(1) extra space complexity? (The output array does not count as extra space for space complexity analysis.)"
   ]
  },
  {
   "cell_type": "code",
   "execution_count": 41,
   "metadata": {},
   "outputs": [
    {
     "name": "stdout",
     "output_type": "stream",
     "text": [
      "[24, 12, 8, 6]\n"
     ]
    }
   ],
   "source": [
    "nums = [1, 2, 3, 4]\n",
    "\n",
    "res = [1]* (len(nums)) # initial value of 1. multiplied by length of nums\n",
    "prefix = 1\n",
    "for i in range(len(nums)): \n",
    "    res[i]=prefix\n",
    "    prefix *= nums[i]\n",
    "\n",
    "postfix =1\n",
    "for i in range(len(nums)-1,-1,-1):\n",
    "    res[i] *=postfix # mutiply postfix with the item in res \n",
    "    postfix *= nums[i] # update postfix each time \n",
    "        \n",
    "print(res)"
   ]
  },
  {
   "cell_type": "markdown",
   "metadata": {},
   "source": [
    "## Other Solutions:"
   ]
  },
  {
   "cell_type": "code",
   "execution_count": 32,
   "metadata": {},
   "outputs": [
    {
     "name": "stdout",
     "output_type": "stream",
     "text": [
      "[24, 12, 8, 6]\n"
     ]
    }
   ],
   "source": [
    "nums = [1, 2, 3, 4]\n",
    "prod = 1\n",
    "for num in nums: \n",
    "    prod *=num\n",
    "print([int(prod/num) for num in nums])"
   ]
  },
  {
   "cell_type": "code",
   "execution_count": 42,
   "metadata": {},
   "outputs": [
    {
     "name": "stdout",
     "output_type": "stream",
     "text": [
      "[24, 12, 8, 6]\n"
     ]
    }
   ],
   "source": [
    "nums = [1, 2, 3, 4]\n",
    "n = len(nums)\n",
    "\n",
    "result = []\n",
    "for i in range(n):\n",
    "    product = 1\n",
    "    for j in range(n):\n",
    "        if i != j:\n",
    "            product *= nums[j]\n",
    "    result.append(product)\n",
    "\n",
    "print(result)\n",
    "    "
   ]
  },
  {
   "cell_type": "markdown",
   "metadata": {},
   "source": [
    "## Practice"
   ]
  },
  {
   "cell_type": "code",
   "execution_count": 127,
   "metadata": {},
   "outputs": [
    {
     "name": "stdout",
     "output_type": "stream",
     "text": [
      "[1, 1, 2, 6]\n",
      "[24, 12, 4, 1]\n",
      "[24, 12, 8, 6]\n"
     ]
    }
   ],
   "source": [
    "nums = [1,2,3,4]\n",
    "res = []\n",
    "\n",
    "prefix = [1]*len(nums)\n",
    "for i in range(1, len(nums)):\n",
    "    prefix[i] = prefix[i-1] * nums[i-1]\n",
    "print(prefix)\n",
    "\n",
    "postfix = [1]*len(nums)\n",
    "for i in range(len(nums)-2, -1, -1):\n",
    "    postfix[i] = postfix[i+1] * nums[i+1]\n",
    "print(postfix)\n",
    "\n",
    "res = [prefix[i] * postfix[i] for i in range(len(nums))]\n",
    "print(res)"
   ]
  },
  {
   "cell_type": "code",
   "execution_count": 120,
   "metadata": {},
   "outputs": [
    {
     "name": "stdout",
     "output_type": "stream",
     "text": [
      "[1, 1, 2, 6]\n",
      "[24, 12, 8, 6]\n"
     ]
    }
   ],
   "source": [
    "nums = [1,2,3,4]\n",
    "\n",
    "res = [1]*len(nums)\n",
    "prefix = 1\n",
    "postfix = 1\n",
    "\n",
    "# Going from first to last \n",
    "for i in range(len(nums)): \n",
    "    res[i]=prefix # First prefix will be 1 \n",
    "    prefix*=nums[i] # This will be updated for the second time\n",
    "\n",
    "\n",
    "# Going from last to the first \n",
    "for i in range(len(nums)-1,-1,-1): \n",
    "    res[i]*=postfix # Because we do not want to replace the number with the postfix. Instead we multiply to update the number already inside\n",
    "    postfix *=nums[i]\n",
    "\n",
    "print(res)"
   ]
  },
  {
   "cell_type": "code",
   "execution_count": 2,
   "metadata": {},
   "outputs": [
    {
     "name": "stdout",
     "output_type": "stream",
     "text": [
      "3\n",
      "2\n",
      "1\n",
      "\n",
      "\n",
      "3\n",
      "2\n",
      "1\n",
      "0\n",
      "\n",
      "\n",
      "0\n",
      "1\n",
      "2\n",
      "3\n"
     ]
    }
   ],
   "source": [
    "# Backward Range: Start is included but stop is not included\n",
    "for i in range(3,0,-1):\n",
    "    print(i)\n",
    "\n",
    "print('\\n')\n",
    "\n",
    "for i in range(3,-1,-1):\n",
    "    print(i)\n",
    "\n",
    "print('\\n')\n",
    "\n",
    "for i in range(4):\n",
    "    print(i)"
   ]
  },
  {
   "cell_type": "code",
   "execution_count": 99,
   "metadata": {},
   "outputs": [
    {
     "data": {
      "text/plain": [
       "[1, 1, 1, 1]"
      ]
     },
     "execution_count": 99,
     "metadata": {},
     "output_type": "execute_result"
    }
   ],
   "source": [
    "# Create initial array \n",
    "# And keep updating the values here to save memory \n",
    "# We do not have to store 3 arrays: prefix, postfix and final result\n",
    "res = [1]*len(nums)\n",
    "res"
   ]
  }
 ],
 "metadata": {
  "kernelspec": {
   "display_name": "Python 3",
   "language": "python",
   "name": "python3"
  },
  "language_info": {
   "codemirror_mode": {
    "name": "ipython",
    "version": 3
   },
   "file_extension": ".py",
   "mimetype": "text/x-python",
   "name": "python",
   "nbconvert_exporter": "python",
   "pygments_lexer": "ipython3",
   "version": "3.10.7"
  }
 },
 "nbformat": 4,
 "nbformat_minor": 2
}
