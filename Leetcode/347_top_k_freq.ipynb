{
 "cells": [
  {
   "cell_type": "markdown",
   "metadata": {},
   "source": [
    "# Top K frequent \n",
    "\n",
    "Given an integer array nums and an integer k, return the k most frequent elements. \n",
    "\n",
    "You may return the answer in any order.\n",
    "\n",
    "Example 1:\n",
    "\n",
    "Input: nums = [1,1,1,2,2,3], k = 2\n",
    "\n",
    "Output: [1,2]\n",
    "\n",
    "Example 2:\n",
    "\n",
    "Input: nums = [1], k = 1\n",
    "\n",
    "Output: [1]\n",
    "\n",
    "Constraints:\n",
    "\n",
    "1 <= nums.length <= 105\n",
    "\n",
    "-104 <= nums[i] <= 104\n",
    "\n",
    "k is in the range [1, the number of unique elements in the array].\n",
    "\n",
    "It is guaranteed that the answer is unique.\n",
    " \n",
    "\n",
    "Follow up: Your algorithm's time complexity must be better than O(n log n), where n is the array's size.\n"
   ]
  },
  {
   "cell_type": "code",
   "execution_count": 2,
   "metadata": {},
   "outputs": [],
   "source": [
    "def topKFrequent(nums, k):\n",
    "    count = {} # hashmap \n",
    "    freq = [[] for i in range(len(nums)+1)] # initialize empty array. size will be same as size of nums \n",
    "            \n",
    "    for n in nums: \n",
    "        count[n] = 1 + count.get(n,0) # if n does not exist, give default value of 0\n",
    "    for n,c in count.items():  # key, value pairs \n",
    "        freq[c].append(n) # at index, append value n. Means the value n occurs c number of times \n",
    "        \n",
    "    res = []\n",
    "    for i in range(len(freq)- 1,0,-1): # descending order. from last to 0th. decrement by -1 \n",
    "        for n in freq[i]: \n",
    "            res.append(n)\n",
    "            if len(res)==k: # stop here, when our result output is same as k. \n",
    "                return res"
   ]
  },
  {
   "cell_type": "markdown",
   "metadata": {},
   "source": [
    "### Bucket Sort \n",
    "\n",
    "new array bounded by length of input array \n",
    "num: index will be number of times they occur, \n",
    "and the value will be the list of values that occur num times. \n",
    "\n",
    "What if all values are distinct ? \n",
    "\n",
    "All values will go to index position 1. Time complexity will still be linear time. \n"
   ]
  }
 ],
 "metadata": {
  "kernelspec": {
   "display_name": "Python 3",
   "language": "python",
   "name": "python3"
  },
  "language_info": {
   "codemirror_mode": {
    "name": "ipython",
    "version": 3
   },
   "file_extension": ".py",
   "mimetype": "text/x-python",
   "name": "python",
   "nbconvert_exporter": "python",
   "pygments_lexer": "ipython3",
   "version": "3.10.7"
  }
 },
 "nbformat": 4,
 "nbformat_minor": 2
}
