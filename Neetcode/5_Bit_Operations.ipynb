{
 "cells": [
  {
   "cell_type": "markdown",
   "metadata": {},
   "source": [
    "# Bit Operations "
   ]
  },
  {
   "cell_type": "code",
   "execution_count": 5,
   "metadata": {},
   "outputs": [
    {
     "name": "stdout",
     "output_type": "stream",
     "text": [
      "1\n",
      "1\n",
      "1\n",
      "0\n",
      "-2\n",
      "2\n",
      "1\n"
     ]
    }
   ],
   "source": [
    "# AND \n",
    "n = 1 & 1 \n",
    "print(n)\n",
    "\n",
    "# OR \n",
    "n = 1 | 0 \n",
    "print(n)\n",
    "\n",
    "# XOR- exclusively only one of these has to be 1 \n",
    "n = 0 ^ 1\n",
    "n1 = 1 ^ 1\n",
    "print(n)\n",
    "print(n1)\n",
    "\n",
    "# NOT \n",
    "n = ~n\n",
    "print(n)\n",
    "\n",
    "# Bit Negation \n",
    "n = 1\n",
    "n = n << 1\n",
    "print(n)\n",
    "n = n >> 1\n",
    "print(n)"
   ]
  },
  {
   "cell_type": "code",
   "execution_count": 8,
   "metadata": {},
   "outputs": [
    {
     "name": "stdout",
     "output_type": "stream",
     "text": [
      "4\n"
     ]
    }
   ],
   "source": [
    "def countBits(n):\n",
    "    count = 0\n",
    "    while n > 0:\n",
    "        if n & 1 == 1: # bitwise AND. when both bits will be 1, only then result will be 1 \n",
    "            count +=1 \n",
    "        n = n >> 1 # same as n//2 \n",
    "    return count\n",
    "\n",
    "# 23 = 10111\n",
    "print(countBits(23))"
   ]
  },
  {
   "cell_type": "code",
   "execution_count": 9,
   "metadata": {},
   "outputs": [
    {
     "data": {
      "text/plain": [
       "'\\n10111-> got 1 bit \\n01011-> got 1 bit \\n00101-> got 1 bit\\n00010\\n00001-> got 1 bit \\n00000\\n'"
      ]
     },
     "execution_count": 9,
     "metadata": {},
     "output_type": "execute_result"
    }
   ],
   "source": [
    "# 10111\n",
    "\n",
    "# 10111 and 00001: \n",
    "    # count = 1 \n",
    "    \n",
    "    # shift one bit to right \n",
    "    # now, n becomes 01011 (chopped off the last digit)\n",
    "\n",
    "# Progression of n:\n",
    "'''\n",
    "10111-> got 1 bit \n",
    "01011-> got 1 bit \n",
    "00101-> got 1 bit\n",
    "00010\n",
    "00001-> got 1 bit \n",
    "00000\n",
    "'''"
   ]
  },
  {
   "cell_type": "markdown",
   "metadata": {},
   "source": [
    "## 338. Counting Bits "
   ]
  },
  {
   "cell_type": "code",
   "execution_count": 12,
   "metadata": {},
   "outputs": [
    {
     "data": {
      "text/plain": [
       "'11001'"
      ]
     },
     "execution_count": 12,
     "metadata": {},
     "output_type": "execute_result"
    }
   ],
   "source": [
    "bin(25)[2:]"
   ]
  },
  {
   "cell_type": "code",
   "execution_count": 15,
   "metadata": {},
   "outputs": [
    {
     "name": "stdout",
     "output_type": "stream",
     "text": [
      "0\n",
      "1\n",
      "10\n",
      "11\n",
      "100\n",
      "101\n"
     ]
    }
   ],
   "source": [
    "for num in range(0, 6):\n",
    "    num = bin(num)[2:]\n",
    "    print(num)"
   ]
  },
  {
   "cell_type": "code",
   "execution_count": 76,
   "metadata": {},
   "outputs": [
    {
     "name": "stdout",
     "output_type": "stream",
     "text": [
      "output_list [0, 1, 1, 2, 1, 2]\n"
     ]
    }
   ],
   "source": [
    "output_list = []\n",
    "for num in range(0, 6):\n",
    "    count = bin(num).count('1')  # Count the number of '1's in the binary representation\n",
    "    output_list.append(count)\n",
    "\n",
    "print(\"output_list\", output_list)"
   ]
  },
  {
   "cell_type": "code",
   "execution_count": null,
   "metadata": {},
   "outputs": [
    {
     "name": "stdout",
     "output_type": "stream",
     "text": [
      "count: 1\n",
      "count: 1\n",
      "count: 1\n",
      "count: 2\n",
      "count: 1\n",
      "count: 1\n",
      "count: 2\n",
      "output_list [0, 1, 1, 2, 1, 2]\n"
     ]
    }
   ],
   "source": [
    "def countBits(n):\n",
    "    output_list = []\n",
    "    for num in range(0, n + 1):\n",
    "        count = 0\n",
    "        while num > 0:\n",
    "            if num & 1 == 1:\n",
    "                count +=1 \n",
    "                print(\"count:\", count)\n",
    "            num = num >> 1 \n",
    "        output_list.append(count)\n",
    "\n",
    "print(\"output_list\", output_list)"
   ]
  },
  {
   "cell_type": "code",
   "execution_count": 77,
   "metadata": {},
   "outputs": [],
   "source": [
    "def countBits(n):\n",
    "    res = []\n",
    "    for num in range(0, n + 1):\n",
    "        count_one = 0 \n",
    "        for i in range(32):\n",
    "            if num & (1 <<i):\n",
    "                count_one = count_one + 1\n",
    "\n",
    "            res.append(count_one)\n",
    "        return res"
   ]
  },
  {
   "cell_type": "markdown",
   "metadata": {},
   "source": [
    "## 190. Reverse Bits "
   ]
  },
  {
   "cell_type": "code",
   "execution_count": 64,
   "metadata": {},
   "outputs": [
    {
     "name": "stdout",
     "output_type": "stream",
     "text": [
      "964176192\n"
     ]
    }
   ],
   "source": [
    "# only works with strings \n",
    "test_num = '10100101000001111010011100'\n",
    "padded_num = test_num.zfill(32) # pad with leading zeroes \n",
    "\n",
    "# reverse the string \n",
    "reversed_num = padded_num[::-1]\n",
    "\n",
    "# convert the reversed binary string to an integer\n",
    "reversed_num = int(reversed_num, 2) \n",
    "# the number we are reversing is binary(has a base of 2)\n",
    "\n",
    "print(reversed_num)"
   ]
  },
  {
   "cell_type": "code",
   "execution_count": null,
   "metadata": {},
   "outputs": [],
   "source": []
  },
  {
   "cell_type": "code",
   "execution_count": 69,
   "metadata": {},
   "outputs": [
    {
     "name": "stdout",
     "output_type": "stream",
     "text": [
      "BIT 1\n",
      "reversed_num 1\n",
      "n 5555555555555555555555555555550\n",
      "BIT 0\n",
      "reversed_num 2\n",
      "n 2777777777777777777777777777775\n",
      "BIT 1\n",
      "reversed_num 5\n",
      "n 1388888888888888888888888888887\n",
      "BIT 1\n",
      "reversed_num 11\n",
      "n 694444444444444444444444444443\n",
      "BIT 1\n",
      "reversed_num 23\n",
      "n 347222222222222222222222222221\n",
      "BIT 1\n",
      "reversed_num 47\n",
      "n 173611111111111111111111111110\n",
      "BIT 0\n",
      "reversed_num 94\n",
      "n 86805555555555555555555555555\n",
      "BIT 1\n",
      "reversed_num 189\n",
      "n 43402777777777777777777777777\n",
      "BIT 1\n",
      "reversed_num 379\n",
      "n 21701388888888888888888888888\n",
      "BIT 0\n",
      "reversed_num 758\n",
      "n 10850694444444444444444444444\n",
      "BIT 0\n",
      "reversed_num 1516\n",
      "n 5425347222222222222222222222\n",
      "BIT 0\n",
      "reversed_num 3032\n",
      "n 2712673611111111111111111111\n",
      "BIT 1\n",
      "reversed_num 6065\n",
      "n 1356336805555555555555555555\n",
      "BIT 1\n",
      "reversed_num 12131\n",
      "n 678168402777777777777777777\n",
      "BIT 1\n",
      "reversed_num 24263\n",
      "n 339084201388888888888888888\n",
      "BIT 0\n",
      "reversed_num 48526\n",
      "n 169542100694444444444444444\n",
      "BIT 0\n",
      "reversed_num 97052\n",
      "n 84771050347222222222222222\n",
      "BIT 0\n",
      "reversed_num 194104\n",
      "n 42385525173611111111111111\n",
      "BIT 1\n",
      "reversed_num 388209\n",
      "n 21192762586805555555555555\n",
      "BIT 1\n",
      "reversed_num 776419\n",
      "n 10596381293402777777777777\n",
      "BIT 1\n",
      "reversed_num 1552839\n",
      "n 5298190646701388888888888\n",
      "BIT 0\n",
      "reversed_num 3105678\n",
      "n 2649095323350694444444444\n",
      "BIT 0\n",
      "reversed_num 6211356\n",
      "n 1324547661675347222222222\n",
      "BIT 0\n",
      "reversed_num 12422712\n",
      "n 662273830837673611111111\n",
      "BIT 1\n",
      "reversed_num 24845425\n",
      "n 331136915418836805555555\n",
      "BIT 1\n",
      "reversed_num 49690851\n",
      "n 165568457709418402777777\n",
      "BIT 1\n",
      "reversed_num 99381703\n",
      "n 82784228854709201388888\n",
      "BIT 0\n",
      "reversed_num 198763406\n",
      "n 41392114427354600694444\n",
      "BIT 0\n",
      "reversed_num 397526812\n",
      "n 20696057213677300347222\n",
      "BIT 0\n",
      "reversed_num 795053624\n",
      "n 10348028606838650173611\n",
      "BIT 1\n",
      "reversed_num 1590107249\n",
      "n 5174014303419325086805\n",
      "BIT 1\n",
      "reversed_num 3180214499\n",
      "n 2587007151709662543402\n"
     ]
    },
    {
     "data": {
      "text/plain": [
       "3180214499"
      ]
     },
     "execution_count": 69,
     "metadata": {},
     "output_type": "execute_result"
    }
   ],
   "source": [
    "def reverseBits(n):\n",
    "    reversed_num = 0 \n",
    "    for _ in range(32):\n",
    "        # Extract the righmost bit of n \n",
    "        bit = n & 1\n",
    "        print(\"BIT\", bit)\n",
    "        # Shift reversed_num left to make space for the new bit\n",
    "        reversed_num = reversed_num << 1 \n",
    "        reversed_num = reversed_num | bit # adds bit \n",
    "        print(\"reversed_num\", reversed_num)\n",
    "        # Shift n right to process the next bit \n",
    "        n = n >> 1 \n",
    "        print(\"n\", n )\n",
    "    return reversed_num\n",
    "\n",
    "reverseBits(11111111111111111111111111111101)"
   ]
  },
  {
   "cell_type": "markdown",
   "metadata": {},
   "source": [
    "## 191. Number of 1 Bits \n",
    "\n",
    "- also a Blind 75 problem"
   ]
  },
  {
   "cell_type": "code",
   "execution_count": 71,
   "metadata": {},
   "outputs": [],
   "source": [
    "def hammingWeight(n):\n",
    "    bin_n = bin(n)[2:]\n",
    "    return bin_n.count('1')"
   ]
  },
  {
   "cell_type": "code",
   "execution_count": 74,
   "metadata": {},
   "outputs": [
    {
     "data": {
      "text/plain": [
       "2"
      ]
     },
     "execution_count": 74,
     "metadata": {},
     "output_type": "execute_result"
    }
   ],
   "source": [
    "## Bit mask-1\n",
    "# Time complexity is O(32) -> O(1)\n",
    "# Space complexity is O(32) -> O(1)\n",
    "\n",
    "def hammingWeight(n):\n",
    "    res = 0 # total count of 1's\n",
    "    while n > 0:\n",
    "        res = res + (n % 2) # if it's 1 it will be added, if it's 0, it won't increase the count\n",
    "        n = n >> 1 # bit shift to right by 1 \n",
    "    return res \n",
    "\n",
    "hammingWeight(5)\n",
    "\n",
    "# but here we are wasting time as we are looking at bits which are 0. \n",
    "# we should think of a solution that only looks at 1 \n"
   ]
  },
  {
   "cell_type": "code",
   "execution_count": null,
   "metadata": {},
   "outputs": [
    {
     "data": {
      "text/plain": [
       "2"
      ]
     },
     "execution_count": 75,
     "metadata": {},
     "output_type": "execute_result"
    }
   ],
   "source": [
    "## Bit mask\n",
    "def hammingWeight(n):\n",
    "    res = 0 # total count of 1's\n",
    "    while n > 0:\n",
    "        n = n & (n -1)\n",
    "        res =res + 1 \n",
    "    return res \n",
    "\n",
    "hammingWeight(5)\n",
    "\n",
    "## here we are skippig the zeroes"
   ]
  },
  {
   "cell_type": "code",
   "execution_count": null,
   "metadata": {},
   "outputs": [],
   "source": []
  }
 ],
 "metadata": {
  "kernelspec": {
   "display_name": "base",
   "language": "python",
   "name": "python3"
  },
  "language_info": {
   "codemirror_mode": {
    "name": "ipython",
    "version": 3
   },
   "file_extension": ".py",
   "mimetype": "text/x-python",
   "name": "python",
   "nbconvert_exporter": "python",
   "pygments_lexer": "ipython3",
   "version": "3.12.5"
  }
 },
 "nbformat": 4,
 "nbformat_minor": 2
}
