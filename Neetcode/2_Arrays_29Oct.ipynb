{
 "cells": [
  {
   "cell_type": "markdown",
   "metadata": {},
   "source": [
    "# Stacks"
   ]
  },
  {
   "cell_type": "markdown",
   "metadata": {},
   "source": [
    "Dynamic Arrays satisfy these requirements: \n",
    "- Push is O(1)\n",
    "- Pop is O(1)\n",
    "- Peek/Top is O(1) Top or the end of array.\n",
    "\n",
    "LIFO: The last element is the first element removed. "
   ]
  },
  {
   "cell_type": "code",
   "execution_count": 2,
   "metadata": {},
   "outputs": [],
   "source": [
    "# Push an element \n",
    "def push(stack, n):\n",
    "    stack.append(n)\n",
    "\n",
    "def pop(stack):\n",
    "    return stack.pop()\n",
    "\n",
    "# Peek to see the top element without removing it \n",
    "def peek(stack):\n",
    "    return stack[-1]"
   ]
  },
  {
   "cell_type": "markdown",
   "metadata": {},
   "source": [
    "## 20. Valid Paranthesis"
   ]
  },
  {
   "cell_type": "markdown",
   "metadata": {},
   "source": [
    "Given a string s containing just the characters '(', ')', '{', '}', '[' and ']', determine if the input string is valid.\n",
    "\n",
    "An input string is valid if:\n",
    "\n",
    "Open brackets must be closed by the same type of brackets.\n",
    "Open brackets must be closed in the correct order.\n",
    "Every close bracket has a corresponding open bracket of the same type.\n",
    " \n",
    "\n",
    "Example 1:\n",
    "\n",
    "    Input: s = \"()\"\n",
    "\n",
    "    Output: true\n",
    "\n",
    "Example 2:\n",
    "\n",
    "    Input: s = \"()[]{}\"\n",
    "\n",
    "    Output: true\n",
    "\n",
    "Example 3:\n",
    "\n",
    "    Input: s = \"(]\"\n",
    "\n",
    "    Output: false\n",
    "\n",
    "Example 4:\n",
    "\n",
    "    Input: s = \"([])\"\n",
    "\n",
    "    Output: true"
   ]
  },
  {
   "cell_type": "code",
   "execution_count": 25,
   "metadata": {},
   "outputs": [],
   "source": [
    "def check_valid_paranthesis(s):\n",
    "    opening_pars = ['[', '(', '{'] # instead of 2 lists, need a dictionary/ hashmap\n",
    "    closing_pars = [']', ')', '}']\n",
    "    new_stack = []\n",
    "    match_found = False\n",
    "\n",
    "    for para in s:\n",
    "        if para in opening_pars:\n",
    "            new_stack.append(para)\n",
    "        if para in closing_pars:\n",
    "            prev_open = new_stack[-1]\n",
    "            if opening_pars.index(prev_open) == closing_pars.index(para):\n",
    "                match_found = True\n",
    "            else: \n",
    "                match_found = False\n",
    "\n",
    "    return match_found\n"
   ]
  },
  {
   "cell_type": "code",
   "execution_count": null,
   "metadata": {},
   "outputs": [],
   "source": [
    "# create a hashmap where keys are closing paranthesis, and values are opening paranthesis \n",
    "closeToOpen = { \n",
    "    \")\" : \"(\",\n",
    "    \"]\" : \"[\",\n",
    "    \"}\" : \"{\"\n",
    "}\n",
    "\n",
    "# we cannot add a closing paranthesis to an empty stack. \n",
    "\n",
    "# if there is a match, we will pop the pair from the stack. \n",
    "\n",
    "# if no match, return False\n",
    "\n",
    "# if an opening paranthesis, append to the stack \n",
    "\n",
    "# only return True if stack is empty, else return False "
   ]
  },
  {
   "cell_type": "code",
   "execution_count": 33,
   "metadata": {},
   "outputs": [],
   "source": [
    "def check_valid_paranthesis(s):\n",
    "    closeToOpen = {']':'[', ')': '(', '}': '{'}\n",
    "    par_stack = []\n",
    "\n",
    "    for item in s:\n",
    "        if item in closeToOpen:\n",
    "            # if it is a closing paranthesis (keys)\n",
    "            if par_stack and par_stack[-1] == closeToOpen[item]: # also check that stack is not empty\n",
    "                par_stack.pop()\n",
    "            else: \n",
    "                return False\n",
    "        else: \n",
    "            par_stack.append(item)\n",
    "    \n",
    "    return True if not par_stack else False\n"
   ]
  },
  {
   "cell_type": "code",
   "execution_count": 34,
   "metadata": {},
   "outputs": [
    {
     "data": {
      "text/plain": [
       "True"
      ]
     },
     "execution_count": 34,
     "metadata": {},
     "output_type": "execute_result"
    }
   ],
   "source": [
    "check_valid_paranthesis('()[]{}')\n",
    "check_valid_paranthesis('()')\n",
    "check_valid_paranthesis('([])')\n"
   ]
  },
  {
   "cell_type": "markdown",
   "metadata": {},
   "source": [
    "## 155. Min Stack "
   ]
  },
  {
   "cell_type": "markdown",
   "metadata": {},
   "source": [
    "Design a stack that supports push, pop, top, and retrieving the minimum element in constant time.\n",
    "\n",
    "Implement the MinStack class:\n",
    "\n",
    "- MinStack() initializes the stack object.\n",
    "- void push(int val) pushes the element val onto the stack.\n",
    "- void pop() removes the element on the top of the stack.\n",
    "- int top() gets the top element of the stack.\n",
    "- int getMin() retrieves the minimum element in the stack.\n",
    "  \n",
    "You must implement a solution with O(1) time complexity for each function.\n",
    "\n",
    "Example 1:\n",
    "\n",
    "    Input\n",
    "    [\"MinStack\",\"push\",\"push\",\"push\",\"getMin\",\"pop\",\"top\",\"getMin\"]\n",
    "    [[],[-2],[0],[-3],[],[],[],[]]\n",
    "\n",
    "    Output\n",
    "    [null,null,null,null,-3,null,0,-2]\n",
    "\n",
    "    Explanation\n",
    "    MinStack minStack = new MinStack();\n",
    "    minStack.push(-2);\n",
    "    minStack.push(0);\n",
    "    minStack.push(-3);\n",
    "    minStack.getMin(); // return -3\n",
    "    minStack.pop();\n",
    "    minStack.top();    // return 0\n",
    "    minStack.getMin(); // return -2"
   ]
  },
  {
   "cell_type": "code",
   "execution_count": 39,
   "metadata": {},
   "outputs": [],
   "source": [
    "class MinStack:\n",
    "\n",
    "    def __init__(self):\n",
    "        self.stack = []\n",
    "        self.minStack = []\n",
    "        # create another stack for minvals\n",
    "\n",
    "    def push(self, val: int) -> None:\n",
    "        self.stack.append(val)\n",
    "        # whatever is minimum: val / top of stack if stack is not empty\n",
    "        # if it's empty, choose from val\n",
    "        val = min(val, self.minStack[-1] if self.minStack else val)\n",
    "        # now we need to push to minstack as well\n",
    "        self.minStack.append(val)\n",
    "\n",
    "    def pop(self) -> None:\n",
    "        self.stack.pop()\n",
    "        self.minStack.pop()\n",
    "\n",
    "    def top(self) -> int:\n",
    "        return self.stack[-1]\n",
    "\n",
    "    def getMin(self) -> int:\n",
    "        # return the top of the minStack\n",
    "        return self.minStack[-1]\n",
    "\n",
    "\n",
    "# Your MinStack object will be instantiated and called as such:\n",
    "# obj = MinStack()\n",
    "# obj.push(\"push\")\n",
    "# obj.pop()\n",
    "# param_3 = obj.top()\n",
    "# print(param_3)\n",
    "# param_4 = obj.getMin()"
   ]
  },
  {
   "cell_type": "code",
   "execution_count": 40,
   "metadata": {},
   "outputs": [],
   "source": [
    "# one stack keeps adding the latest values \n",
    "\n",
    "# another stack tells us the minimum value until now. \n",
    "\n",
    "# to get the minimum value, look at the top of the stack. \n"
   ]
  },
  {
   "cell_type": "markdown",
   "metadata": {},
   "source": [
    "# Linked List "
   ]
  },
  {
   "cell_type": "markdown",
   "metadata": {},
   "source": [
    "## Singly Linked List"
   ]
  },
  {
   "cell_type": "markdown",
   "metadata": {},
   "source": [
    "- Always have pointers for head and tail \n",
    "- We can remove anything in constant time. if we can go from one element to next or next.next\n",
    "- Using the next pointer of each, we can connect the nodes together. \n",
    "\n",
    "Time Complexity \n",
    "- Access: O(n)\n",
    "- Search: O(n)\n",
    "- Insertion: O(1)\n",
    "- Deletion: O(1)"
   ]
  },
  {
   "cell_type": "code",
   "execution_count": null,
   "metadata": {},
   "outputs": [],
   "source": [
    "class ListNode:\n",
    "    def __init__(self, val):\n",
    "        self.val = val\n",
    "        self.next = None \n",
    "    \n",
    "    def add_next(node1, node2):\n",
    "        node1.next = node2\n",
    "\n",
    "    def traverse(from_node):\n",
    "        cur = from_node\n",
    "        while cur: # or curr != null\n",
    "            cur = cur.next\n",
    "        \n",
    "    def append_to(tail, node):\n",
    "        tail.next = node\n",
    "\n",
    "    def deleting(node):\n",
    "        node.next = node.next.next\n"
   ]
  },
  {
   "cell_type": "markdown",
   "metadata": {},
   "source": [
    "### Reverse Linked List "
   ]
  },
  {
   "cell_type": "code",
   "execution_count": 43,
   "metadata": {},
   "outputs": [],
   "source": [
    "# Definition for singly-linked list.\n",
    "# class ListNode:\n",
    "#     def __init__(self, val=0, next=None):\n",
    "#         self.val = val\n",
    "#         self.next = next\n",
    "\n",
    "def reverseList(head):\n",
    "    for i in head: \n",
    "        i.next = i\n",
    "\n",
    "# first element is the null element \n",
    "\n",
    "# current pointer is next to the null element \n",
    "\n",
    "# head becomes the tail \n",
    "\n",
    "# head.next = "
   ]
  },
  {
   "cell_type": "code",
   "execution_count": null,
   "metadata": {},
   "outputs": [],
   "source": [
    "# Doing it iteratively \n",
    "# O(1): Memory complexity (because we are using pointers)\n",
    "# O(n): Time complexity \n",
    "\n",
    "def reverseList(head):\n",
    "    prev, curr = None, head\n",
    "\n",
    "    while curr: # is not null\n",
    "        nxt = curr.next # temporary variable that stores the next of curr\n",
    "        curr.next = prev # reversing the 1st node to prev \n",
    "        \n",
    "        prev = curr # now previosu pointer is the current head. It has moved. \n",
    "        curr = nxt # similarly current is now the next one \n",
    "\n",
    "    return prev # when the loop stops executing. "
   ]
  },
  {
   "cell_type": "code",
   "execution_count": null,
   "metadata": {},
   "outputs": [],
   "source": [
    "## def reverseList(head):\n",
    "    ## we created a prev null variable before list starts \n",
    "    # previous, current = None, head \n",
    "\n",
    "    ## while current:\n",
    "        ## what's ahead of current: becomes nxt \n",
    "        ## (reverse) now, current.next becomes the prev \n",
    "\n",
    "        ## prev = current \n",
    "        ## current = nxt \n",
    "\n",
    "    ## return prev (the reversed list)"
   ]
  },
  {
   "cell_type": "markdown",
   "metadata": {},
   "source": [
    "#### Recursive Solution\n",
    "\n",
    "- Linear Memory \n",
    "- Linear Time"
   ]
  },
  {
   "cell_type": "code",
   "execution_count": null,
   "metadata": {},
   "outputs": [],
   "source": [
    "# Doing it recursively \n",
    "\n",
    "def reverseList(self, head):\n",
    "\n",
    "    if not head: # if head is null \n",
    "        return None \n",
    "    \n",
    "    newHead = head # current node where we are at \n",
    "    if head.next: # if we can keep reversing from the head \n",
    "        newHead = self.reverseList(head.next)\n",
    "        head.next.next = head # reversing the link \n",
    "    head.next =  None \n",
    "\n",
    "    return newHead"
   ]
  },
  {
   "cell_type": "code",
   "execution_count": null,
   "metadata": {},
   "outputs": [],
   "source": [
    "## instead of head, reverse everything else \n",
    "\n",
    "##[1,2,3]. don't touch 1st. doun't touch 2. \n",
    "## start with the last node.  \n",
    "## next pointer from that node is 2 \n",
    "## From 2, next pointer is null \n",
    "## Finally, we are at last call. next pointer from 2 is 1 \n",
    "## next pointer from 1 will be null. \n",
    "\n",
    "# keep reversing until you don't see the null \n"
   ]
  }
 ],
 "metadata": {
  "kernelspec": {
   "display_name": "base",
   "language": "python",
   "name": "python3"
  },
  "language_info": {
   "codemirror_mode": {
    "name": "ipython",
    "version": 3
   },
   "file_extension": ".py",
   "mimetype": "text/x-python",
   "name": "python",
   "nbconvert_exporter": "python",
   "pygments_lexer": "ipython3",
   "version": "3.12.5"
  }
 },
 "nbformat": 4,
 "nbformat_minor": 2
}
