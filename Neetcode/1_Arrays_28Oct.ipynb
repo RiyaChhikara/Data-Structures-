{
 "cells": [
  {
   "cell_type": "markdown",
   "metadata": {},
   "source": [
    "# Static Arrays "
   ]
  },
  {
   "cell_type": "markdown",
   "metadata": {},
   "source": [
    "RAM: contiguous block of data. Every value stored at an address. \n",
    "- Numbers (4 bytes/ 32 bits each)\n",
    "- ASCII character/ alphabets (1 byte/8 bits each)\n",
    "\n",
    "Static Arrays\n",
    "- Reading the data: Taking index, and reading the value at that address. O(1) is when reading happens instantly. Randomly access memory at constant time, hence the name. \n",
    "- Writing data: Arrays are of fixed size. But in RAM, we don't get to decide the position when array exceeds the fixed size. O(1)\n",
    "- Removing a value = overwriting it with another number. As we cannot disallocate a address from an arrray. O(1)  \n",
    "- Python doesn't have static arrays. They have dynamic arrays. \n",
    "\n",
    "- If we wanted to arbitrarily include values in the array: like middle/ beginning: O(n) operation as it would have to displace len(array) number of elements. Same is true if removing an element from an arbitraty position. \n",
    "\n",
    "  - Read/ write ith element: O(1)\n",
    "  - Insert/ remove end: O(1)\n",
    "  - Insert Middle: O(n) worst case\n",
    "  - Remove Middle: O(n)"
   ]
  },
  {
   "cell_type": "code",
   "execution_count": 48,
   "metadata": {},
   "outputs": [
    {
     "data": {
      "text/plain": [
       "[1, 3, 89, 5, 7]"
      ]
     },
     "execution_count": 48,
     "metadata": {},
     "output_type": "execute_result"
    }
   ],
   "source": [
    "# initialize myArray\n",
    "myArray = [1,3,5,7,10]\n",
    "\n",
    "# Traversing through array \n",
    "def traverse(arr):\n",
    "    for i in range(len(arr)):\n",
    "        print(arr[i])\n",
    "\n",
    "# Remove from the last position in array \n",
    "def removeEnd(arr, length):\n",
    "    if length > 0:\n",
    "        arr[length-1]=0\n",
    "        print(arr)\n",
    "\n",
    "#removeEnd(myArray, 3)\n",
    "\n",
    "# Remove from the middle position in the array \n",
    "def removeMiddle(arr, i, length):\n",
    "    for index in range(i+1, length):\n",
    "        temp = arr[index] # a temporary placeholder\n",
    "        arr[index-1]= arr[index]\n",
    "        arr[index]=0 #replace the last element with 0 or null to mark it empty. \n",
    "        length = length-1\n",
    "    print(arr)\n",
    "\n",
    "#removeMiddle(myArray, 2, 5)\n",
    "\n",
    "# Insert at the end\n",
    "def insertEnd(arr, n, length, capacity):\n",
    "    '''\n",
    "    Insert n into the arr\n",
    "    Length is the number of elements inside the array\n",
    "    Capacity is the maximum number of elements array can hold. \n",
    "    '''\n",
    "    if length < capacity:\n",
    "        arr[length]=n\n",
    "    return arr\n",
    "\n",
    "#insertEnd(myArray, 100, 4, 30)\n",
    "\n",
    "# Inserting at the ith index, let's say Middle\n",
    "def insertMiddle(arr, i, n, length):\n",
    "    '''\n",
    "    Insert n\n",
    "    into index i \n",
    "    length is the number of elements in the array\n",
    "    '''\n",
    "    for index in range(length-1, i -1, -1): # start, end, skip\n",
    "        arr[index+1] = arr[index]\n",
    "\n",
    "    # Insert at i \n",
    "    arr[i]= n\n",
    "    return arr\n",
    "\n",
    "insertMiddle(myArray, 2, 89, 4)\n"
   ]
  },
  {
   "cell_type": "markdown",
   "metadata": {},
   "source": [
    "## 26. Remove Duplicates from Sorted Arrays "
   ]
  },
  {
   "cell_type": "markdown",
   "metadata": {},
   "source": [
    "- Given an integer array nums sorted in increasing order, remove the duplicates in-place such that each unique element appears only once.\n",
    "- The relative order of the elements should be kept the same. \n",
    "- Then return the number of unique elements in nums.\n",
    "- Do not allocate extra space for another array. Modify the input array in-place with O(1) extra memory. \n",
    "  \n",
    "Example 1:\n",
    "\n",
    "    Input: nums = [1,1,2]\n",
    "    Output: 2, nums = [1,2,_]\n",
    "    Explanation: Your function should return k = 2, with the first two elements of nums being 1 and 2 respectively.\n",
    "    It does not matter what you leave beyond the returned k (hence they are underscores).\n",
    "\n",
    "Example 2:\n",
    "\n",
    "    Input: nums = [0,0,1,1,1,2,2,3,3,4]\n",
    "    Output: 5, nums = [0,1,2,3,4,_,_,_,_,_]\n",
    "    Explanation: Your function should return k = 5, with the first five elements of nums being 0, 1, 2, 3, and 4 respectively.\n",
    "    It does not matter what you leave beyond the returned k (hence they are underscores).\n"
   ]
  },
  {
   "cell_type": "code",
   "execution_count": 61,
   "metadata": {},
   "outputs": [],
   "source": [
    "def removeDuplicates(nums:list[int])-> int:\n",
    "    # Left is where the unique value sits. index of Left will be total unique values.  \n",
    "    # Right is to scan the whole array \n",
    "    l = 1 # because we do not touch our 0th index value. \n",
    "\n",
    "    for r in range(1, len(nums)): # initially, both left and right pointers initialized to 1 \n",
    "        if nums[r] != nums[r-1]: # is this a new value or have we seen it in the previous position\n",
    "            nums[l] = nums[r] # l is shifted to that position to keep the unique value \n",
    "            l += 1\n",
    "    \n",
    "    return l\n"
   ]
  },
  {
   "cell_type": "code",
   "execution_count": 62,
   "metadata": {},
   "outputs": [
    {
     "data": {
      "text/plain": [
       "5"
      ]
     },
     "execution_count": 62,
     "metadata": {},
     "output_type": "execute_result"
    }
   ],
   "source": [
    "testcases = [[1,1,2], [0,0,1,1,1,2,2,3,3,4]]\n",
    "\n",
    "removeDuplicates(testcases[1])"
   ]
  },
  {
   "cell_type": "markdown",
   "metadata": {},
   "source": [
    "## 27. Remove Element"
   ]
  },
  {
   "cell_type": "markdown",
   "metadata": {},
   "source": [
    "Given an integer array nums and an integer val, remove all occurrences of val in nums in-place. The order of the elements may be changed. Then return the number of elements in nums which are not equal to val.\n",
    "\n",
    "Consider the number of elements in nums which are not equal to val be k, to get accepted, you need to do the following things:\n",
    "\n",
    "- Change the array nums such that the first k elements of nums contain the elements which are not equal to val. The remaining elements of nums are not important as well as the size of nums.\n",
    "- Return k.\n",
    "\n",
    "Example 1:\n",
    "\n",
    "    Input: nums = [3,2,2,3], val = 3\n",
    "    Output: 2, nums = [2,2,_,_]\n",
    "    Explanation: Your function should return k = 2, with the first two elements of nums being 2.\n",
    "    It does not matter what you leave beyond the returned k (hence they are underscores).\n",
    "\n",
    "Example 2:\n",
    "\n",
    "    Input: nums = [0,1,2,2,3,0,4,2], val = 2\n",
    "    Output: 5, nums = [0,1,4,0,3,_,_,_]\n",
    "    Explanation: Your function should return k = 5, with the first five elements of nums containing 0, 0, 1, 3, and 4.\n",
    "    Note that the five elements can be returned in any order.\n",
    "    It does not matter what you leave beyond the returned k (hence they are underscores).\n"
   ]
  },
  {
   "cell_type": "code",
   "execution_count": 27,
   "metadata": {},
   "outputs": [],
   "source": [
    "def removeElement(nums: list[int], val:int)-> int:\n",
    "    l = 0\n",
    "\n",
    "    for r in range(0, len(nums)):\n",
    "        if nums[r] != val: # when it is a special value \n",
    "            nums[l] = nums[r]\n",
    "            l+=1\n",
    "    print(nums)\n",
    "    return l \n"
   ]
  },
  {
   "cell_type": "code",
   "execution_count": 30,
   "metadata": {},
   "outputs": [
    {
     "name": "stdout",
     "output_type": "stream",
     "text": [
      "[2, 1, 2]\n"
     ]
    },
    {
     "data": {
      "text/plain": [
       "1"
      ]
     },
     "execution_count": 30,
     "metadata": {},
     "output_type": "execute_result"
    }
   ],
   "source": [
    "testcases = [[1,1,2], [0,0,1,1,1,2,2,3,3,4]]\n",
    "\n",
    "removeElement(testcases[0],1)"
   ]
  },
  {
   "cell_type": "markdown",
   "metadata": {},
   "source": [
    "# Dynamic Arrays"
   ]
  },
  {
   "cell_type": "markdown",
   "metadata": {},
   "source": [
    "- Popping a value is O(1)\n",
    "- When we run out of space in the fixed array, we create a new array (double of the previous one) and then de-allocate the space from the previous array. \n",
    "- Amortized time complexity: It took O(n) to create a new array, but it is unlikely that all the times it will be exhausted. So, on average it is o(1)\n",
    "- Power Series\n",
    "- Constants are ignored. \n",
    "\n",
    "  - Read/Write ith element: O(1)\n",
    "  - Insert/Remove End: O(1)\n",
    "  - Insert Middle: O(n)\n",
    "  - Remove Middle: O(n)"
   ]
  },
  {
   "cell_type": "code",
   "execution_count": null,
   "metadata": {},
   "outputs": [],
   "source": [
    "# Insert n in the last position of the array \n",
    "def pushback(arr, n, length, capacity):\n",
    "    # keep pushing the elements into the array until the length becomes same as capacity. \n",
    "    if length == capacity:\n",
    "        resize(arr)  #if yes, then resize (or double)\n",
    "    \n",
    "    # Insert at next empty position \n",
    "    arr[length] = n\n",
    "    length += 1\n",
    "\n",
    "def resize(arr, capacity, length):\n",
    "    # create a new array of double capacity\n",
    "    capacity = 2* capacity\n",
    "    new_array = [0] * capacity #populate by zeroes \n",
    "\n",
    "    # copy elements to new array \n",
    "    for i in range(length):\n",
    "        new_array[i] = arr[i] # take element from the argument array\n",
    "    arr = new_array # replace "
   ]
  },
  {
   "cell_type": "markdown",
   "metadata": {},
   "source": [
    "## 1929: Concatenation of Array\n",
    "[Link](https://leetcode.com/problems/concatenation-of-array/description/)"
   ]
  },
  {
   "cell_type": "markdown",
   "metadata": {},
   "source": [
    "Given an integer array nums of length n, you want to create an array ans of length 2n where ans[i] == nums[i] and ans[i + n] == nums[i] for 0 <= i < n (0-indexed).\n",
    "\n",
    "Specifically, ans is the concatenation of two nums arrays.\n",
    "\n",
    "Return the array ans.\n",
    "\n",
    "Example 1:\n",
    "\n",
    "    Input: nums = [1,2,1]\n",
    "    Output: [1,2,1,1,2,1]\n",
    "    Explanation: The array ans is formed as follows:\n",
    "    - ans = [nums[0],nums[1],nums[2],nums[0],nums[1],nums[2]]\n",
    "    - ans = [1,2,1,1,2,1]\n",
    "  \n",
    "Example 2:\n",
    "\n",
    "    Input: nums = [1,3,2,1]\n",
    "    Output: [1,3,2,1,1,3,2,1]\n",
    "    Explanation: The array ans is formed as follows:\n",
    "    - ans = [nums[0],nums[1],nums[2],nums[3],nums[0],nums[1],nums[2],nums[3]]\n",
    "    - ans = [1,3,2,1,1,3,2,1]\n",
    "\n"
   ]
  },
  {
   "cell_type": "code",
   "execution_count": 57,
   "metadata": {},
   "outputs": [],
   "source": [
    "def getConcatenation(arr):\n",
    "    ans=[]\n",
    "\n",
    "    for i in range(2):\n",
    "        for n in arr:\n",
    "            ans.append(n)\n",
    "\n",
    "    return ans"
   ]
  },
  {
   "cell_type": "code",
   "execution_count": 58,
   "metadata": {},
   "outputs": [
    {
     "data": {
      "text/plain": [
       "[1, 2, 1, 1, 2, 1]"
      ]
     },
     "execution_count": 58,
     "metadata": {},
     "output_type": "execute_result"
    }
   ],
   "source": [
    "getConcatenation([1,2,1])"
   ]
  }
 ],
 "metadata": {
  "kernelspec": {
   "display_name": "base",
   "language": "python",
   "name": "python3"
  },
  "language_info": {
   "codemirror_mode": {
    "name": "ipython",
    "version": 3
   },
   "file_extension": ".py",
   "mimetype": "text/x-python",
   "name": "python",
   "nbconvert_exporter": "python",
   "pygments_lexer": "ipython3",
   "version": "3.12.5"
  }
 },
 "nbformat": 4,
 "nbformat_minor": 2
}
