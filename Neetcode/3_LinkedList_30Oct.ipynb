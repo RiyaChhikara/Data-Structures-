{
 "cells": [
  {
   "cell_type": "markdown",
   "metadata": {},
   "source": [
    "# Singly Linked Lists"
   ]
  },
  {
   "cell_type": "markdown",
   "metadata": {},
   "source": [
    "### 21 Merge Two Sorted lists "
   ]
  },
  {
   "cell_type": "markdown",
   "metadata": {},
   "source": [
    "You are given the heads of two sorted linked lists list1 and list2.\n",
    "\n",
    "Merge the two lists into one sorted list. The list should be made by splicing together the nodes of the first two lists.\n",
    "\n",
    "Return the head of the merged linked list.\n",
    "\n",
    "Example 1:\n",
    "\n",
    "    Input: list1 = [1,2,4], list2 = [1,3,4]\n",
    "    Output: [1,1,2,3,4,4]\n",
    "\n",
    "Example 2:\n",
    "\n",
    "    Input: list1 = [], list2 = []\n",
    "    Output: []\n",
    "    \n",
    "Example 3:\n",
    "\n",
    "    Input: list1 = [], list2 = [0]\n",
    "    Output: [0]"
   ]
  },
  {
   "cell_type": "code",
   "execution_count": null,
   "metadata": {},
   "outputs": [],
   "source": [
    "lst1 = [1,2,4]\n",
    "lst2 = [1,3,4]"
   ]
  },
  {
   "cell_type": "code",
   "execution_count": null,
   "metadata": {},
   "outputs": [],
   "source": [
    "## start, end \n",
    "\n",
    "## start from first element in list1 \n",
    "\n",
    "## temporary variable to store head.next \n",
    "\n",
    "## head.next becomes the head in list2\n",
    "\n",
    "## from head in list2, next elemenr is the temporary variable \n",
    "\n",
    "## now, from tempo"
   ]
  },
  {
   "cell_type": "code",
   "execution_count": null,
   "metadata": {},
   "outputs": [],
   "source": [
    "def mergeTwoLists(list1, list2):\n",
    "    dummy = ListNode()\n",
    "    tail = dummy\n",
    "\n",
    "    while list1 and list2: \n",
    "        if list1.val < list2.val:\n",
    "            tail.next = list1\n",
    "            list1 = list1.next\n",
    "        else: \n",
    "            tail.next = list2\n",
    "            list2 = list2.next\n",
    "        \n",
    "        tail = tail.next \n",
    "\n",
    "    if list1:\n",
    "        tail.next = list1\n",
    "    elif list2:\n",
    "        tail.next = list2\n",
    "    \n",
    "    return dummy.next\n",
    "        "
   ]
  },
  {
   "cell_type": "code",
   "execution_count": null,
   "metadata": {},
   "outputs": [],
   "source": [
    "## To avoid the issue of initial empty list, create a dummy variable \n",
    "\n",
    "## compare which values are smaller at same index in both \n",
    "\n"
   ]
  },
  {
   "cell_type": "markdown",
   "metadata": {},
   "source": [
    "# Doubly Linked List "
   ]
  },
  {
   "cell_type": "markdown",
   "metadata": {},
   "source": [
    "- prev node\n",
    "- val node\n",
    "- next node\n",
    "  \n",
    "    [1] [2] [3]"
   ]
  },
  {
   "cell_type": "markdown",
   "metadata": {},
   "source": [
    "Arrays: \n",
    "- Insert/Remove from middle: O(n) because we will shift all elements by 1\n",
    "- Access ith element: O(1)\n",
    "- Insert/ Remove End: O(1)\n",
    "\n",
    "Linked List: \n",
    "- Access ith element: O(n) because we cannot randomly go to any value\n",
    "- Insert/ Remove at end: O(1)\n",
    "- Insert/ Remove Middle: O(1)"
   ]
  },
  {
   "cell_type": "code",
   "execution_count": 3,
   "metadata": {},
   "outputs": [],
   "source": [
    "# Adding another node at end: Constant Time Operation \n",
    "\n",
    "# tail.next = ListNode4\n",
    "# ListNode4.prev = tail \n",
    "# tail = tail.next"
   ]
  },
  {
   "cell_type": "code",
   "execution_count": null,
   "metadata": {},
   "outputs": [],
   "source": [
    "# Deleting: Constant Time Operation \n",
    "\n",
    "# node2 = tail.prev\n",
    "# node2.next = null \n",
    "# tail = node2"
   ]
  },
  {
   "cell_type": "code",
   "execution_count": 4,
   "metadata": {},
   "outputs": [],
   "source": [
    "class ListNode:\n",
    "    def __init__(self, val):\n",
    "        self.val = val \n",
    "        self.prev = None\n",
    "        self.next = None\n",
    "\n",
    "# Implementation for Doubly linked List \n",
    "class LinkedList:\n",
    "    def __init__(self):\n",
    "        self.head = ListNode(-1)\n",
    "        self.tail = ListNode(-1)\n",
    "        self.head.next = self.tail \n",
    "        self.tail.prev = self.head \n",
    "\n",
    "    def insertFront(self, val):\n",
    "        newNode = ListNode(val)\n",
    "        newNode.prev = self.head \n",
    "        newNode.next = self.head.next \n",
    "\n",
    "        self.head.next.prev = newNode\n",
    "        self.head.next = newNode\n",
    "\n",
    "    def insertEnd(self, val):\n",
    "        newNode = ListNode(val)\n",
    "        newNode.next = self.tail \n",
    "        newNode.prev = self.tail.prev\n",
    "\n",
    "        self.tail.prev.next = newNode\n",
    "        self.tail.prev = newNode\n",
    "\n",
    "    # Remove first node after dummy head (assume it exists)\n",
    "    def removeFront(self):\n",
    "        self.head.next.next.prev = self.head\n",
    "        self.head.next = self.head.next.next\n",
    "\n",
    "    # Remove last node before dummy tail (assume it exists)\n",
    "    def removeEnd(self):\n",
    "        self.tail.prev.prev.next = self.tail\n",
    "        self.tail.prev = self.tail.prev.prev\n",
    "\n",
    "    def print(self):\n",
    "        curr = self.head.next\n",
    "        while curr != self.tail:\n",
    "            print(curr.val, \" -> \")\n",
    "            curr = curr.next\n",
    "        print()"
   ]
  },
  {
   "cell_type": "markdown",
   "metadata": {},
   "source": [
    "### 707. Design Linked List"
   ]
  },
  {
   "cell_type": "code",
   "execution_count": null,
   "metadata": {},
   "outputs": [],
   "source": [
    "class ListNode:\n",
    "    def __init__(self, val):\n",
    "        self.val = val \n",
    "        self.prev = None \n",
    "        self.next = None \n",
    "        \n",
    "class MyLinkedList:\n",
    "\n",
    "    def __init__(self):\n",
    "        self.left = ListNode(0)\n",
    "        self.right = ListNode(0)\n",
    "        self.left.next = self.right\n",
    "        self.right.prev = self.left\n",
    "\n",
    "\n",
    "    def get(self, index: int) -> int:\n",
    "        curr = self.left.next\n",
    "        while curr and index > 0:\n",
    "            curr = curr.next\n",
    "            index -= 1\n",
    "        if curr and curr!= self.right and index == 0:\n",
    "            return curr.val\n",
    "        return -1\n",
    "\n",
    "    def addAtHead(self, val: int) -> None:\n",
    "        node, next, prev = ListNode(val), self.left.next, self.left\n",
    "\n",
    "        prev.next, next.prev = node, node\n",
    "        \n",
    "        node.next, node.prev = next, prev\n",
    "\n",
    "\n",
    "    def addAtTail(self, val: int) -> None:\n",
    "        node, next, prev = ListNode(val), self.right, self.right.prev\n",
    "\n",
    "        prev.next, next.prev = node, node\n",
    "\n",
    "        node.next, node.prev = next, prev\n",
    "\n",
    "    def addAtIndex(self, index: int, val: int) -> None:\n",
    "        curr = self.left.next \n",
    "        while curr and index>0:\n",
    "            curr = curr.next \n",
    "            index -=1 \n",
    "        \n",
    "        if curr and index ==0:\n",
    "            node, next, prev = ListNode(val), curr, curr.prev\n",
    "            prev.next, next.prev = node, node\n",
    "\n",
    "            node.next, node.prev = next , prev\n",
    "\n",
    "    def deleteAtIndex(self, index: int) -> None:\n",
    "        curr = self.left.next \n",
    "        while curr and index>0:\n",
    "            curr = curr.next \n",
    "            index -=1 \n",
    "        \n",
    "        if curr and curr!= self.right and index ==0:\n",
    "            next, prev = curr, curr.prev\n",
    "            next.prev = prev\n",
    "            prev.next = next \n",
    "\n",
    "\n",
    "# Your MyLinkedList object will be instantiated and called as such:\n",
    "# obj = MyLinkedList()\n",
    "# param_1 = obj.get(index)\n",
    "# obj.addAtHead(val)\n",
    "# obj.addAtTail(val)\n",
    "# obj.addAtIndex(index,val)\n",
    "# obj.deleteAtIndex(index)"
   ]
  },
  {
   "cell_type": "markdown",
   "metadata": {},
   "source": [
    "### 1472. Design Browser History"
   ]
  },
  {
   "cell_type": "markdown",
   "metadata": {},
   "source": [
    "You have a browser of one tab where you start on the homepage and you can visit another url, get back in the history number of steps or move forward in the history number of steps.\n",
    "\n",
    "Implement the BrowserHistory class:\n",
    "\n",
    "- BrowserHistory(string homepage) Initializes the object with the homepage of the browser.\n",
    "- void visit(string url) Visits url from the current page. It clears up all the forward history.\n",
    "- string back(int steps) Move steps back in history. If you can only return x steps in the history and steps > x, you will return only x steps. Return the current url after moving back in history at most steps.\n",
    "- string forward(int steps) Move steps forward in history. If you can only forward x steps in the history and steps > x, you will forward only x steps. Return the current url after forwarding in history at most steps."
   ]
  },
  {
   "cell_type": "code",
   "execution_count": null,
   "metadata": {},
   "outputs": [],
   "source": [
    "class ListNode:\n",
    "    def __init__(self, val, prev=None, next=None):\n",
    "        self.val = val \n",
    "        self.prev = prev\n",
    "        self.next = next\n",
    "        \n",
    "class BrowserHistory:\n",
    "\n",
    "    def __init__(self, homepage: str):\n",
    "        self.curr = ListNode(homepage)\n",
    "\n",
    "    def visit(self, url: str) -> None:\n",
    "        self.curr.next = ListNode(url, self.curr)\n",
    "        self.curr = self.curr.next\n",
    "\n",
    "    def back(self, steps: int) -> str:\n",
    "        while self.curr.prev and steps > 0:\n",
    "            # we will stop at a position where curr.prev is not null\n",
    "            self.curr = self.curr.prev\n",
    "            steps -= 1\n",
    "        return self.curr.val\n",
    "\n",
    "    def forward(self, steps: int) -> str:\n",
    "        pass\n",
    "\n",
    "# Your BrowserHistory object will be instantiated and called as such:\n",
    "# obj = BrowserHistory(homepage)\n",
    "# obj.visit(url)\n",
    "# param_2 = obj.back(steps)\n",
    "# param_3 = obj.forward(steps)"
   ]
  },
  {
   "cell_type": "code",
   "execution_count": null,
   "metadata": {},
   "outputs": [],
   "source": [
    "## Each url is a new page\n",
    "\n",
    "# visit url: \n",
    "## curr.next = url_page \n",
    "## url_page.prev = curr\n",
    "\n",
    "## url_page.next = Null (empties the forward history)\n",
    "\n",
    "## Move back by n steps\n",
    "# return url by moving at these number of steps \n",
    "\n",
    "## Move forward by n steps\n",
    "# return url after forwarding history "
   ]
  },
  {
   "cell_type": "code",
   "execution_count": null,
   "metadata": {},
   "outputs": [],
   "source": []
  }
 ],
 "metadata": {
  "kernelspec": {
   "display_name": "base",
   "language": "python",
   "name": "python3"
  },
  "language_info": {
   "codemirror_mode": {
    "name": "ipython",
    "version": 3
   },
   "file_extension": ".py",
   "mimetype": "text/x-python",
   "name": "python",
   "nbconvert_exporter": "python",
   "pygments_lexer": "ipython3",
   "version": "3.12.5"
  }
 },
 "nbformat": 4,
 "nbformat_minor": 2
}
