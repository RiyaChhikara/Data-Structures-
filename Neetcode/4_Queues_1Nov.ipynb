{
 "cells": [
  {
   "cell_type": "markdown",
   "metadata": {},
   "source": [
    "# Queues"
   ]
  },
  {
   "cell_type": "markdown",
   "metadata": {},
   "source": [
    "- FIFO approach \n",
    "- main operations: enqueue and dequeue "
   ]
  },
  {
   "cell_type": "code",
   "execution_count": 1,
   "metadata": {},
   "outputs": [],
   "source": [
    "class ListNode:\n",
    "    def __init__(self, val):\n",
    "        self.val = val \n",
    "        self.next = None \n",
    "\n",
    "class Queue:\n",
    "    def __init__(self):\n",
    "        self.left = None \n",
    "        self.right = None \n",
    "\n",
    "    def enqueue(self, val):\n",
    "        newNode = ListNode(val)\n",
    "\n",
    "        # Queue is non-empty \n",
    "        if self.right:\n",
    "            self.right.next = newNode\n",
    "            self.right = self.right.next \n",
    "\n",
    "        else: \n",
    "            self.left = self.right = newNode\n",
    "\n",
    "    def dequeue(self):\n",
    "        if not self.left:\n",
    "            return None \n",
    "\n",
    "        # Remove left node and return value \n",
    "        val = self.left.val \n",
    "        self.left = self.left.next \n",
    "        \n",
    "        if not self.right:\n",
    "            self.right = None\n",
    "        return val \n",
    "\n",
    "    def print(self):\n",
    "        curr = self.left\n",
    "        while curr:\n",
    "            print(curr.val, ' -> ', end =\"\")\n",
    "            curr = curr.next\n",
    "        print()"
   ]
  },
  {
   "cell_type": "markdown",
   "metadata": {},
   "source": [
    "## 1700. Number of Students Unable to Eat Lunch"
   ]
  },
  {
   "cell_type": "markdown",
   "metadata": {},
   "source": [
    "This continues until none of the queue students want to take the top sandwich and are thus unable to eat.\n",
    "\n",
    "You are given two integer arrays students and sandwiches where sandwiches[i] is the type of the i​​​​​​th sandwich in the stack (i = 0 is the top of the stack) and students[j] is the preference of the j​​​​​​th student in the initial queue (j = 0 is the front of the queue). \n",
    "\n",
    "Return the number of students that are unable to eat.\n"
   ]
  },
  {
   "cell_type": "code",
   "execution_count": null,
   "metadata": {},
   "outputs": [],
   "source": [
    "students = [1,1,0,0] # preference \n",
    "sandwiches = [0,1,0,1] # 2 types\n",
    "\n",
    "def countStudents(students, sandwiches):\n",
    "    num_students = len(students)\n",
    "    decisions_made = 0 #whether taken or not \n",
    "\n",
    "    # Run from beg to end in sandwiches queue\n",
    "    ## if match between student's choice and sandwich: \n",
    "        ## take sandwich (remove from queue) (DEQUEUE)\n",
    "        ## remove student from queue (DEQUEUE)\n",
    "\n",
    "    ## if no match: \n",
    "        ## no change in sandwich queue (no change)\n",
    "        ## student joins end of queue  (ENQUEUE)\n",
    "\n",
    "    ## what to return ?? \n",
    "    ## considering there are no sandwiches that can be eaten by anyone in the students queue\n",
    "    ## so those who have not existed the queue \n"
   ]
  },
  {
   "cell_type": "code",
   "execution_count": null,
   "metadata": {},
   "outputs": [],
   "source": [
    "def countStudents(students, sandwiches):\n",
    "    num_students = len(students)\n",
    "    decisions_made = 0\n",
    "\n",
    "    while students and decisions_made < num_students : \n",
    "        if students[0] == sandwiches[0]:\n",
    "            students.pop(0)\n",
    "            sandwiches.pop(0)\n",
    "            decisions_made = 0 \n",
    "\n",
    "        else: \n",
    "            stu_at_back = students.pop(0)\n",
    "            students.append(stu_at_back)\n",
    "            decisions_made +=1 \n",
    "\n",
    "    return len(students)## ?? "
   ]
  },
  {
   "cell_type": "code",
   "execution_count": null,
   "metadata": {},
   "outputs": [],
   "source": [
    "## Using the Queue\n",
    "class ListNode:\n",
    "    def __init__(self, val):\n",
    "        self.val = val \n",
    "        self.next = None \n",
    "        \n",
    "def countStudents(students, sandwiches):\n",
    "    \n",
    "    "
   ]
  }
 ],
 "metadata": {
  "kernelspec": {
   "display_name": "base",
   "language": "python",
   "name": "python3"
  },
  "language_info": {
   "codemirror_mode": {
    "name": "ipython",
    "version": 3
   },
   "file_extension": ".py",
   "mimetype": "text/x-python",
   "name": "python",
   "nbconvert_exporter": "python",
   "pygments_lexer": "ipython3",
   "version": "3.12.5"
  }
 },
 "nbformat": 4,
 "nbformat_minor": 2
}
